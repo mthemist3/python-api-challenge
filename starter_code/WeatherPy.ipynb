{
 "cells": [
  {
   "cell_type": "markdown",
   "metadata": {},
   "source": [
    "# WeatherPy\n",
    "----\n",
    "\n",
    "#### Note\n",
    "* Instructions have been included for each segment. You do not have to follow them exactly, but they are included to help you think through the steps."
   ]
  },
  {
   "cell_type": "code",
   "execution_count": 29,
   "metadata": {
    "scrolled": true
   },
   "outputs": [],
   "source": [
    "# Dependencies and Setup\n",
    "import matplotlib.pyplot as plt\n",
    "import pandas as pd\n",
    "import numpy as np\n",
    "import requests\n",
    "import time\n",
    "from scipy.stats import linregress\n",
    "\n",
    "# Import API key\n",
    "from api_keys import weather_api_key\n",
    "\n",
    "# Incorporated citipy to determine city based on latitude and longitude\n",
    "from citipy import citipy\n",
    "\n",
    "# Output File (CSV)\n",
    "output_data_file = \"output_data/cities.csv\"\n",
    "\n",
    "# Range of latitudes and longitudes\n",
    "lat_range = (-90, 90)\n",
    "lng_range = (-180, 180)"
   ]
  },
  {
   "cell_type": "markdown",
   "metadata": {},
   "source": [
    "## Generate Cities List"
   ]
  },
  {
   "cell_type": "code",
   "execution_count": 30,
   "metadata": {},
   "outputs": [
    {
     "data": {
      "text/plain": [
       "620"
      ]
     },
     "execution_count": 30,
     "metadata": {},
     "output_type": "execute_result"
    }
   ],
   "source": [
    "# List for holding lat_lngs and cities\n",
    "lat_lngs = []\n",
    "cities = []\n",
    "\n",
    "# Create a set of random lat and lng combinations\n",
    "lats = np.random.uniform(lat_range[0], lat_range[1], size=1500)\n",
    "lngs = np.random.uniform(lng_range[0], lng_range[1], size=1500)\n",
    "lat_lngs = zip(lats, lngs)\n",
    "\n",
    "# Identify nearest city for each lat, lng combination\n",
    "for lat_lng in lat_lngs:\n",
    "    city = citipy.nearest_city(lat_lng[0], lat_lng[1]).city_name\n",
    "    \n",
    "    # If the city is unique, then add it to a our cities list\n",
    "    if city not in cities:\n",
    "        cities.append(city)\n",
    "\n",
    "# Print the city count to confirm sufficient count\n",
    "len(cities)"
   ]
  },
  {
   "cell_type": "markdown",
   "metadata": {},
   "source": [
    "### Perform API Calls\n",
    "* Perform a weather check on each city using a series of successive API calls.\n",
    "* Include a print log of each city as it'sbeing processed (with the city number and city name).\n"
   ]
  },
  {
   "cell_type": "code",
   "execution_count": 33,
   "metadata": {
    "scrolled": true
   },
   "outputs": [
    {
     "name": "stdout",
     "output_type": "stream",
     "text": [
      "Processing record 1 of 620: | dikson\n",
      "Processing record 2 of 620: | tarauaca\n",
      "Processing record 3 of 620: | azare\n",
      "Processing record 4 of 620: | madera\n",
      "Processing record 5 of 620: | punta arenas\n",
      "Processing record 6 of 620: | yerbogachen\n",
      "Processing record 7 of 620: | avarua\n",
      "Processing record 8 of 620: | ambovombe\n",
      "Processing record 9 of 620: | kamyshlov\n",
      "Processing record 10 of 620: | hilo\n",
      "Processing record 11 of 620: | taree\n",
      "Processing record 12 of 620: | buala\n",
      "Processing record 13 of 620: | cherskiy\n",
      "City not found, skipping...\n",
      "Processing record 14 of 620: | yellowknife\n",
      "Processing record 15 of 620: | diu\n",
      "Processing record 16 of 620: | port alfred\n",
      "City not found, skipping...\n",
      "Processing record 17 of 620: | castro-urdiales\n",
      "Processing record 18 of 620: | busselton\n",
      "City not found, skipping...\n",
      "Processing record 19 of 620: | luderitz\n",
      "Processing record 20 of 620: | si sa ket\n",
      "Processing record 21 of 620: | souillac\n",
      "Processing record 22 of 620: | burley\n",
      "Processing record 23 of 620: | albany\n",
      "Processing record 24 of 620: | upernavik\n",
      "Processing record 25 of 620: | aklavik\n",
      "City not found, skipping...\n",
      "Processing record 26 of 620: | shellbrook\n",
      "Processing record 27 of 620: | rikitea\n",
      "Processing record 28 of 620: | elliot\n",
      "City not found, skipping...\n",
      "Processing record 29 of 620: | tasiilaq\n",
      "Processing record 30 of 620: | ranong\n",
      "Processing record 31 of 620: | santiago del estero\n",
      "Processing record 32 of 620: | mataura\n",
      "Processing record 33 of 620: | birao\n",
      "Processing record 34 of 620: | butaritari\n",
      "Processing record 35 of 620: | new norfolk\n",
      "Processing record 36 of 620: | sitka\n",
      "Processing record 37 of 620: | miri\n",
      "City not found, skipping...\n",
      "Processing record 38 of 620: | sisimiut\n",
      "Processing record 39 of 620: | antofagasta\n",
      "Processing record 40 of 620: | chuy\n",
      "Processing record 41 of 620: | huilong\n",
      "City not found, skipping...\n",
      "Processing record 42 of 620: | broome\n",
      "Processing record 43 of 620: | hithadhoo\n",
      "Processing record 44 of 620: | castro\n",
      "Processing record 45 of 620: | camana\n",
      "Processing record 46 of 620: | atuona\n",
      "Processing record 47 of 620: | cap malheureux\n",
      "Processing record 48 of 620: | kruisfontein\n",
      "Processing record 49 of 620: | nanortalik\n",
      "City not found, skipping...\n",
      "Processing record 50 of 620: | hobart\n",
      "Processing record 51 of 620: | thompson\n",
      "Processing record 52 of 620: | vaini\n",
      "Processing record 53 of 620: | pisco\n",
      "Processing record 54 of 620: | lebu\n",
      "Processing record 55 of 620: | padang\n",
      "Processing record 56 of 620: | ushuaia\n",
      "Processing record 57 of 620: | kaitangata\n",
      "Processing record 58 of 620: | husavik\n",
      "Processing record 59 of 620: | hermanus\n",
      "Processing record 60 of 620: | borjomi\n",
      "Processing record 61 of 620: | flinders\n",
      "Processing record 62 of 620: | auki\n",
      "Processing record 63 of 620: | port angeles\n",
      "Processing record 64 of 620: | college\n",
      "Processing record 65 of 620: | bambous virieux\n",
      "Processing record 66 of 620: | bengkulu\n",
      "Processing record 67 of 620: | victoria\n",
      "Processing record 68 of 620: | bowen\n",
      "Processing record 69 of 620: | dawson creek\n",
      "Processing record 70 of 620: | sao felix do xingu\n",
      "Processing record 71 of 620: | pangkalanbuun\n",
      "Processing record 72 of 620: | jamestown\n",
      "Processing record 73 of 620: | shimoda\n",
      "Processing record 74 of 620: | porto novo\n",
      "Processing record 75 of 620: | puerto ayora\n",
      "Processing record 76 of 620: | nome\n",
      "City not found, skipping...\n",
      "Processing record 77 of 620: | east london\n",
      "Processing record 78 of 620: | kutum\n",
      "Processing record 79 of 620: | gurupa\n",
      "Processing record 80 of 620: | rio gallegos\n",
      "City not found, skipping...\n",
      "Processing record 81 of 620: | boshnyakovo\n",
      "Processing record 82 of 620: | phan thiet\n",
      "Processing record 83 of 620: | provideniya\n",
      "City not found, skipping...\n",
      "City not found, skipping...\n",
      "Processing record 84 of 620: | barrow\n",
      "Processing record 85 of 620: | colwyn bay\n",
      "Processing record 86 of 620: | lompoc\n",
      "Processing record 87 of 620: | catamarca\n",
      "Processing record 88 of 620: | bathsheba\n",
      "Processing record 89 of 620: | norman wells\n",
      "Processing record 90 of 620: | jalu\n",
      "Processing record 91 of 620: | te anau\n",
      "Processing record 92 of 620: | rapid valley\n",
      "Processing record 93 of 620: | sao filipe\n",
      "Processing record 94 of 620: | port elizabeth\n",
      "Processing record 95 of 620: | georgetown\n",
      "Processing record 96 of 620: | hlatikulu\n",
      "Processing record 97 of 620: | cidreira\n",
      "Processing record 98 of 620: | port blair\n",
      "Processing record 99 of 620: | vila\n",
      "City not found, skipping...\n",
      "Processing record 100 of 620: | tiksi\n",
      "Processing record 101 of 620: | hays\n",
      "Processing record 102 of 620: | senador jose porfirio\n",
      "Processing record 103 of 620: | lokosovo\n",
      "Processing record 104 of 620: | half moon bay\n",
      "Processing record 105 of 620: | lang suan\n",
      "Processing record 106 of 620: | shieli\n",
      "Processing record 107 of 620: | terrak\n",
      "Processing record 108 of 620: | hamilton\n",
      "Processing record 109 of 620: | coihaique\n",
      "Processing record 110 of 620: | vallenar\n",
      "Processing record 111 of 620: | arraial do cabo\n",
      "City not found, skipping...\n",
      "Processing record 112 of 620: | sabang\n",
      "Processing record 113 of 620: | pevek\n",
      "Processing record 114 of 620: | bredasdorp\n",
      "Processing record 115 of 620: | nouakchott\n",
      "Processing record 116 of 620: | dunedin\n",
      "City not found, skipping...\n",
      "Processing record 117 of 620: | storm lake\n",
      "Processing record 118 of 620: | ahja\n",
      "Processing record 119 of 620: | cape town\n",
      "Processing record 120 of 620: | faya\n",
      "Processing record 121 of 620: | davila\n",
      "Processing record 122 of 620: | ancud\n",
      "Processing record 123 of 620: | pitimbu\n",
      "Processing record 124 of 620: | nemuro\n",
      "Processing record 125 of 620: | kodiak\n",
      "Processing record 126 of 620: | salalah\n",
      "City not found, skipping...\n",
      "Processing record 127 of 620: | geraldton\n",
      "Processing record 128 of 620: | saint george\n",
      "Processing record 129 of 620: | tuatapere\n",
      "Processing record 130 of 620: | fairbanks\n",
      "Processing record 131 of 620: | paita\n",
      "Processing record 132 of 620: | vao\n",
      "Processing record 133 of 620: | nova olinda do norte\n",
      "Processing record 134 of 620: | moron\n",
      "Processing record 135 of 620: | saskylakh\n",
      "Processing record 136 of 620: | estrela\n",
      "Processing record 137 of 620: | tenkodogo\n",
      "Processing record 138 of 620: | clyde river\n",
      "Processing record 139 of 620: | kapaa\n",
      "City not found, skipping...\n",
      "Processing record 140 of 620: | kavieng\n",
      "City not found, skipping...\n",
      "Processing record 141 of 620: | vozrozhdeniye\n",
      "Processing record 142 of 620: | saldanha\n",
      "Processing record 143 of 620: | yei\n",
      "Processing record 144 of 620: | maloy\n",
      "Processing record 145 of 620: | mondlo\n",
      "Processing record 146 of 620: | faanui\n",
      "City not found, skipping...\n",
      "Processing record 147 of 620: | bandarbeyla\n",
      "Processing record 148 of 620: | tarboro\n",
      "Processing record 149 of 620: | bhuj\n",
      "Processing record 150 of 620: | pokrovsk\n",
      "Processing record 151 of 620: | bluff\n",
      "Processing record 152 of 620: | narsaq\n",
      "Processing record 153 of 620: | kudahuvadhoo\n",
      "Processing record 154 of 620: | westport\n",
      "Processing record 155 of 620: | bilma\n",
      "Processing record 156 of 620: | nurota\n",
      "Processing record 157 of 620: | airai\n",
      "Processing record 158 of 620: | carnarvon\n",
      "Processing record 159 of 620: | billings\n",
      "Processing record 160 of 620: | port macquarie\n",
      "Processing record 161 of 620: | sao jose dos pinhais\n",
      "Processing record 162 of 620: | corning\n",
      "City not found, skipping...\n",
      "City not found, skipping...\n",
      "City not found, skipping...\n",
      "Processing record 163 of 620: | singureni\n",
      "Processing record 164 of 620: | funadhoo\n",
      "Processing record 165 of 620: | bethel\n",
      "Processing record 166 of 620: | kirakira\n",
      "City not found, skipping...\n",
      "Processing record 167 of 620: | myitkyina\n",
      "Processing record 168 of 620: | fortuna\n",
      "Processing record 169 of 620: | vzmorye\n",
      "Processing record 170 of 620: | aguimes\n",
      "Processing record 171 of 620: | lashio\n",
      "City not found, skipping...\n",
      "Processing record 172 of 620: | inongo\n",
      "Processing record 173 of 620: | jesus carranza\n",
      "Processing record 174 of 620: | nacala\n",
      "Processing record 175 of 620: | challapata\n",
      "Processing record 176 of 620: | beruwala\n",
      "Processing record 177 of 620: | tuktoyaktuk\n",
      "Processing record 178 of 620: | ribeira grande\n",
      "Processing record 179 of 620: | baruun-urt\n",
      "Processing record 180 of 620: | barentu\n",
      "City not found, skipping...\n",
      "City not found, skipping...\n",
      "Processing record 181 of 620: | touros\n",
      "Processing record 182 of 620: | iquitos\n",
      "Processing record 183 of 620: | mar del plata\n",
      "Processing record 184 of 620: | barstow\n",
      "Processing record 185 of 620: | longyearbyen\n"
     ]
    },
    {
     "name": "stdout",
     "output_type": "stream",
     "text": [
      "Processing record 186 of 620: | derbent\n",
      "Processing record 187 of 620: | kolondieba\n",
      "Processing record 188 of 620: | cabedelo\n",
      "Processing record 189 of 620: | dryden\n",
      "Processing record 190 of 620: | aykhal\n",
      "Processing record 191 of 620: | zyryanskoye\n",
      "Processing record 192 of 620: | riyadh\n",
      "Processing record 193 of 620: | kungurtug\n",
      "Processing record 194 of 620: | palmer\n",
      "Processing record 195 of 620: | cordoba\n",
      "Processing record 196 of 620: | celestun\n",
      "Processing record 197 of 620: | hambantota\n",
      "Processing record 198 of 620: | klaksvik\n",
      "Processing record 199 of 620: | ponta do sol\n",
      "Processing record 200 of 620: | russell\n",
      "Processing record 201 of 620: | saint-joseph\n",
      "Processing record 202 of 620: | amnat charoen\n",
      "Processing record 203 of 620: | kuusamo\n",
      "Processing record 204 of 620: | dundalk\n",
      "Processing record 205 of 620: | kloulklubed\n",
      "Processing record 206 of 620: | inta\n",
      "Processing record 207 of 620: | hasaki\n",
      "Processing record 208 of 620: | edd\n",
      "Processing record 209 of 620: | sterling\n",
      "Processing record 210 of 620: | ostrovnoy\n",
      "Processing record 211 of 620: | san juan\n",
      "Processing record 212 of 620: | benito juarez\n",
      "City not found, skipping...\n",
      "Processing record 213 of 620: | griffith\n",
      "City not found, skipping...\n",
      "Processing record 214 of 620: | hofn\n",
      "Processing record 215 of 620: | los llanos de aridane\n",
      "Processing record 216 of 620: | ust-tsilma\n",
      "Processing record 217 of 620: | ufimskiy\n",
      "Processing record 218 of 620: | kahului\n",
      "Processing record 219 of 620: | sjenica\n",
      "Processing record 220 of 620: | nuuk\n",
      "Processing record 221 of 620: | beloha\n",
      "Processing record 222 of 620: | soyo\n",
      "City not found, skipping...\n",
      "Processing record 223 of 620: | garden city\n",
      "Processing record 224 of 620: | qaqortoq\n",
      "Processing record 225 of 620: | soroti\n",
      "Processing record 226 of 620: | guerrero negro\n",
      "Processing record 227 of 620: | cuenca\n",
      "Processing record 228 of 620: | zyryanka\n",
      "Processing record 229 of 620: | ishigaki\n",
      "Processing record 230 of 620: | havre-saint-pierre\n",
      "Processing record 231 of 620: | tuy hoa\n",
      "Processing record 232 of 620: | moranbah\n",
      "Processing record 233 of 620: | yenagoa\n",
      "Processing record 234 of 620: | codrington\n",
      "Processing record 235 of 620: | atasu\n",
      "Processing record 236 of 620: | sioux lookout\n",
      "Processing record 237 of 620: | marystown\n",
      "Processing record 238 of 620: | nantucket\n",
      "Processing record 239 of 620: | pierre\n",
      "Processing record 240 of 620: | dingle\n",
      "City not found, skipping...\n",
      "Processing record 241 of 620: | warangal\n",
      "Processing record 242 of 620: | sabha\n",
      "Processing record 243 of 620: | tautira\n",
      "Processing record 244 of 620: | port lincoln\n",
      "Processing record 245 of 620: | xuddur\n",
      "Processing record 246 of 620: | sao joao da barra\n",
      "Processing record 247 of 620: | khatanga\n",
      "Processing record 248 of 620: | leningradskiy\n",
      "Processing record 249 of 620: | mainburg\n",
      "Processing record 250 of 620: | uberlandia\n",
      "Processing record 251 of 620: | rovaniemi\n",
      "Processing record 252 of 620: | astoria\n",
      "Processing record 253 of 620: | vardo\n",
      "Processing record 254 of 620: | las vegas\n",
      "Processing record 255 of 620: | mehamn\n",
      "Processing record 256 of 620: | lavrentiya\n",
      "Processing record 257 of 620: | ilulissat\n",
      "Processing record 258 of 620: | machhlishahr\n",
      "Processing record 259 of 620: | la ronge\n",
      "Processing record 260 of 620: | dudinka\n",
      "Processing record 261 of 620: | moose factory\n",
      "City not found, skipping...\n",
      "Processing record 262 of 620: | iqaluit\n",
      "Processing record 263 of 620: | isangel\n",
      "Processing record 264 of 620: | aktau\n",
      "Processing record 265 of 620: | iralaya\n",
      "City not found, skipping...\n",
      "Processing record 266 of 620: | puerto escondido\n",
      "Processing record 267 of 620: | marawi\n",
      "Processing record 268 of 620: | tadine\n",
      "Processing record 269 of 620: | zima\n",
      "Processing record 270 of 620: | constitucion\n",
      "Processing record 271 of 620: | poso\n",
      "Processing record 272 of 620: | whitehorse\n",
      "Processing record 273 of 620: | esperance\n",
      "Processing record 274 of 620: | mount gambier\n",
      "Processing record 275 of 620: | ramanuj ganj\n",
      "Processing record 276 of 620: | cozumel\n",
      "Processing record 277 of 620: | dekar\n",
      "Processing record 278 of 620: | saint-philippe\n",
      "Processing record 279 of 620: | oum hadjer\n",
      "Processing record 280 of 620: | leh\n",
      "Processing record 281 of 620: | hurghada\n",
      "Processing record 282 of 620: | abu kamal\n",
      "Processing record 283 of 620: | manta\n",
      "Processing record 284 of 620: | san matias\n",
      "Processing record 285 of 620: | lorengau\n",
      "Processing record 286 of 620: | shunyi\n",
      "Processing record 287 of 620: | sarangani\n",
      "Processing record 288 of 620: | barbastro\n",
      "Processing record 289 of 620: | irpa irpa\n",
      "Processing record 290 of 620: | karasjok\n",
      "Processing record 291 of 620: | kralendijk\n",
      "Processing record 292 of 620: | gallup\n",
      "Processing record 293 of 620: | liverpool\n",
      "Processing record 294 of 620: | muisne\n",
      "Processing record 295 of 620: | vila franca do campo\n",
      "Processing record 296 of 620: | port hawkesbury\n",
      "Processing record 297 of 620: | tomatlan\n",
      "Processing record 298 of 620: | balurghat\n",
      "Processing record 299 of 620: | tovuz\n",
      "Processing record 300 of 620: | hobyo\n",
      "Processing record 301 of 620: | brae\n",
      "Processing record 302 of 620: | leirvik\n",
      "City not found, skipping...\n",
      "Processing record 303 of 620: | abnub\n",
      "Processing record 304 of 620: | karratha\n",
      "Processing record 305 of 620: | west lake stevens\n",
      "Processing record 306 of 620: | sosnovka\n",
      "Processing record 307 of 620: | san ramon\n",
      "Processing record 308 of 620: | gizo\n",
      "Processing record 309 of 620: | qaanaaq\n",
      "Processing record 310 of 620: | tamiahua\n",
      "Processing record 311 of 620: | palmas\n",
      "Processing record 312 of 620: | marzuq\n",
      "Processing record 313 of 620: | awbari\n",
      "Processing record 314 of 620: | beringovskiy\n",
      "Processing record 315 of 620: | pingdingshan\n",
      "Processing record 316 of 620: | kavaratti\n",
      "Processing record 317 of 620: | surt\n",
      "Processing record 318 of 620: | lar\n",
      "Processing record 319 of 620: | hay river\n",
      "Processing record 320 of 620: | manono\n",
      "Processing record 321 of 620: | disna\n",
      "Processing record 322 of 620: | tabory\n",
      "Processing record 323 of 620: | hirara\n",
      "Processing record 324 of 620: | olden\n",
      "Processing record 325 of 620: | ponta delgada\n",
      "Processing record 326 of 620: | bara\n",
      "City not found, skipping...\n",
      "Processing record 327 of 620: | rocha\n",
      "Processing record 328 of 620: | werda\n",
      "Processing record 329 of 620: | santa rosa\n",
      "Processing record 330 of 620: | atar\n",
      "Processing record 331 of 620: | porto empedocle\n",
      "Processing record 332 of 620: | verkh-suetka\n",
      "Processing record 333 of 620: | biak\n",
      "City not found, skipping...\n",
      "Processing record 334 of 620: | seminole\n",
      "Processing record 335 of 620: | leshan\n",
      "Processing record 336 of 620: | severnyy\n",
      "Processing record 337 of 620: | ngemplak\n",
      "Processing record 338 of 620: | dongsheng\n",
      "City not found, skipping...\n",
      "Processing record 339 of 620: | usinsk\n",
      "Processing record 340 of 620: | bubaque\n",
      "Processing record 341 of 620: | aldan\n",
      "Processing record 342 of 620: | saint-pierre\n",
      "Processing record 343 of 620: | coquimbo\n",
      "Processing record 344 of 620: | kourou\n",
      "Processing record 345 of 620: | soe\n",
      "Processing record 346 of 620: | santa cruz\n",
      "Processing record 347 of 620: | margate\n",
      "Processing record 348 of 620: | gornopravdinsk\n",
      "Processing record 349 of 620: | adrar\n",
      "Processing record 350 of 620: | derzhavinsk\n",
      "Processing record 351 of 620: | komsomolskiy\n",
      "Processing record 352 of 620: | lasa\n",
      "Processing record 353 of 620: | mahebourg\n",
      "Processing record 354 of 620: | ust-uda\n",
      "Processing record 355 of 620: | doha\n",
      "Processing record 356 of 620: | caxito\n",
      "Processing record 357 of 620: | pasni\n",
      "Processing record 358 of 620: | hanmer springs\n",
      "Processing record 359 of 620: | mildura\n",
      "Processing record 360 of 620: | kropotkin\n",
      "Processing record 361 of 620: | baykit\n",
      "Processing record 362 of 620: | magdagachi\n",
      "Processing record 363 of 620: | moskovskiy\n",
      "Processing record 364 of 620: | kenai\n",
      "Processing record 365 of 620: | barraute\n",
      "Processing record 366 of 620: | san javier\n",
      "Processing record 367 of 620: | japura\n",
      "Processing record 368 of 620: | medea\n",
      "Processing record 369 of 620: | katsuura\n",
      "Processing record 370 of 620: | urumqi\n",
      "Processing record 371 of 620: | guines\n",
      "Processing record 372 of 620: | berdigestyakh\n",
      "Processing record 373 of 620: | hami\n",
      "Processing record 374 of 620: | sindor\n",
      "Processing record 375 of 620: | manokwari\n",
      "Processing record 376 of 620: | lagoa\n",
      "Processing record 377 of 620: | honiara\n",
      "Processing record 378 of 620: | puerto lopez\n",
      "Processing record 379 of 620: | dera bugti\n"
     ]
    },
    {
     "name": "stdout",
     "output_type": "stream",
     "text": [
      "Processing record 380 of 620: | cayenne\n",
      "Processing record 381 of 620: | mantua\n",
      "Processing record 382 of 620: | san luis\n",
      "Processing record 383 of 620: | los chiles\n",
      "Processing record 384 of 620: | huarmey\n",
      "Processing record 385 of 620: | oranjestad\n",
      "Processing record 386 of 620: | kabanjahe\n",
      "Processing record 387 of 620: | jyvaskyla\n",
      "Processing record 388 of 620: | blyznyuky\n",
      "Processing record 389 of 620: | adeje\n",
      "Processing record 390 of 620: | vostok\n",
      "Processing record 391 of 620: | coolum beach\n",
      "Processing record 392 of 620: | chokurdakh\n",
      "Processing record 393 of 620: | byron bay\n",
      "Processing record 394 of 620: | ormara\n",
      "Processing record 395 of 620: | catemaco\n",
      "City not found, skipping...\n",
      "Processing record 396 of 620: | znamenskoye\n",
      "Processing record 397 of 620: | point pedro\n",
      "Processing record 398 of 620: | inuvik\n",
      "Processing record 399 of 620: | ellensburg\n",
      "Processing record 400 of 620: | san jose\n",
      "Processing record 401 of 620: | nikolskoye\n",
      "Processing record 402 of 620: | natal\n",
      "Processing record 403 of 620: | kalaleh\n",
      "Processing record 404 of 620: | qui nhon\n",
      "Processing record 405 of 620: | warri\n",
      "Processing record 406 of 620: | nishihara\n",
      "Processing record 407 of 620: | leskovik\n",
      "Processing record 408 of 620: | ballina\n",
      "Processing record 409 of 620: | korla\n",
      "Processing record 410 of 620: | caranavi\n",
      "Processing record 411 of 620: | mugur-aksy\n",
      "Processing record 412 of 620: | torres\n",
      "City not found, skipping...\n",
      "Processing record 413 of 620: | minchinabad\n",
      "Processing record 414 of 620: | kulhudhuffushi\n",
      "Processing record 415 of 620: | paamiut\n",
      "Processing record 416 of 620: | turan\n",
      "Processing record 417 of 620: | vila velha\n",
      "City not found, skipping...\n",
      "Processing record 418 of 620: | grand gaube\n",
      "Processing record 419 of 620: | george town\n",
      "Processing record 420 of 620: | lermontovka\n",
      "City not found, skipping...\n",
      "Processing record 421 of 620: | bud\n",
      "Processing record 422 of 620: | keffi\n",
      "Processing record 423 of 620: | wichian buri\n",
      "City not found, skipping...\n",
      "Processing record 424 of 620: | nueva loja\n",
      "Processing record 425 of 620: | sidrolandia\n",
      "Processing record 426 of 620: | moissala\n",
      "Processing record 427 of 620: | vestmanna\n",
      "Processing record 428 of 620: | namibe\n",
      "Processing record 429 of 620: | kenitra\n",
      "Processing record 430 of 620: | blythe\n",
      "City not found, skipping...\n",
      "Processing record 431 of 620: | sobolevo\n",
      "Processing record 432 of 620: | fort nelson\n",
      "Processing record 433 of 620: | merauke\n",
      "Processing record 434 of 620: | itarema\n",
      "Processing record 435 of 620: | balikpapan\n",
      "City not found, skipping...\n",
      "Processing record 436 of 620: | chkalovsk\n",
      "Processing record 437 of 620: | kasongo-lunda\n",
      "Processing record 438 of 620: | ronda\n",
      "Processing record 439 of 620: | ola\n",
      "Processing record 440 of 620: | oro valley\n",
      "Processing record 441 of 620: | praia\n",
      "Processing record 442 of 620: | puerto colombia\n",
      "Processing record 443 of 620: | sharanga\n",
      "Processing record 444 of 620: | dalvik\n",
      "Processing record 445 of 620: | cotonou\n",
      "Processing record 446 of 620: | nanton\n",
      "Processing record 447 of 620: | rock springs\n",
      "Processing record 448 of 620: | batemans bay\n",
      "Processing record 449 of 620: | columbus\n",
      "City not found, skipping...\n",
      "Processing record 450 of 620: | buraydah\n",
      "Processing record 451 of 620: | maraba\n",
      "Processing record 452 of 620: | flin flon\n",
      "Processing record 453 of 620: | rio bravo\n",
      "Processing record 454 of 620: | severnoye\n",
      "Processing record 455 of 620: | chandbali\n",
      "Processing record 456 of 620: | mugan\n",
      "Processing record 457 of 620: | zhangye\n",
      "Processing record 458 of 620: | imbituba\n",
      "Processing record 459 of 620: | bensonville\n",
      "Processing record 460 of 620: | sambava\n",
      "Processing record 461 of 620: | finschhafen\n",
      "Processing record 462 of 620: | beberibe\n",
      "Processing record 463 of 620: | bulgan\n",
      "Processing record 464 of 620: | alofi\n",
      "Processing record 465 of 620: | najran\n",
      "City not found, skipping...\n",
      "City not found, skipping...\n",
      "Processing record 466 of 620: | muros\n",
      "Processing record 467 of 620: | salo\n",
      "City not found, skipping...\n",
      "Processing record 468 of 620: | sakakah\n",
      "Processing record 469 of 620: | la rioja\n",
      "Processing record 470 of 620: | maloarkhangelsk\n",
      "Processing record 471 of 620: | torbay\n",
      "Processing record 472 of 620: | mega\n",
      "Processing record 473 of 620: | bathurst\n",
      "Processing record 474 of 620: | inhambane\n",
      "City not found, skipping...\n",
      "Processing record 475 of 620: | richards bay\n",
      "Processing record 476 of 620: | aden\n",
      "Processing record 477 of 620: | nouadhibou\n",
      "Processing record 478 of 620: | lafia\n",
      "Processing record 479 of 620: | sola\n",
      "Processing record 480 of 620: | mandalgovi\n",
      "Processing record 481 of 620: | ambagarh chauki\n",
      "Processing record 482 of 620: | goure\n",
      "Processing record 483 of 620: | srednekolymsk\n",
      "Processing record 484 of 620: | aykino\n",
      "Processing record 485 of 620: | ucluelet\n",
      "Processing record 486 of 620: | idaho falls\n",
      "Processing record 487 of 620: | mandleshwar\n",
      "Processing record 488 of 620: | yulara\n",
      "Processing record 489 of 620: | lahat\n",
      "Processing record 490 of 620: | berlevag\n",
      "Processing record 491 of 620: | ouahigouya\n",
      "Processing record 492 of 620: | skjervoy\n",
      "Processing record 493 of 620: | wasilla\n",
      "Processing record 494 of 620: | bartica\n",
      "City not found, skipping...\n",
      "Processing record 495 of 620: | umm kaddadah\n",
      "Processing record 496 of 620: | berbera\n",
      "Processing record 497 of 620: | mount isa\n",
      "Processing record 498 of 620: | barcelos\n",
      "Processing record 499 of 620: | pochutla\n",
      "Processing record 500 of 620: | melilla\n",
      "Processing record 501 of 620: | el alto\n",
      "Processing record 502 of 620: | butajira\n",
      "Processing record 503 of 620: | bay-khaak\n",
      "Processing record 504 of 620: | ekangala\n",
      "Processing record 505 of 620: | mokhsogollokh\n",
      "Processing record 506 of 620: | asau\n",
      "Processing record 507 of 620: | tres picos\n",
      "Processing record 508 of 620: | edson\n",
      "Processing record 509 of 620: | timaru\n",
      "City not found, skipping...\n",
      "Processing record 510 of 620: | san vicente\n",
      "Processing record 511 of 620: | tilichiki\n",
      "Processing record 512 of 620: | yefremov\n",
      "Processing record 513 of 620: | dieburg\n",
      "Processing record 514 of 620: | laguna\n",
      "Processing record 515 of 620: | quatre cocos\n",
      "Processing record 516 of 620: | henties bay\n",
      "Processing record 517 of 620: | olinda\n",
      "Processing record 518 of 620: | udachnyy\n",
      "Processing record 519 of 620: | the valley\n",
      "City not found, skipping...\n",
      "Processing record 520 of 620: | pedras de fogo\n",
      "Processing record 521 of 620: | simga\n",
      "Processing record 522 of 620: | ekhabi\n",
      "Processing record 523 of 620: | mercedes\n",
      "Processing record 524 of 620: | houma\n",
      "Processing record 525 of 620: | gwadar\n",
      "Processing record 526 of 620: | hovd\n",
      "Processing record 527 of 620: | zhenjiang\n",
      "Processing record 528 of 620: | copiapo\n",
      "Processing record 529 of 620: | kapit\n",
      "Processing record 530 of 620: | tibati\n",
      "Processing record 531 of 620: | jibuti\n",
      "Processing record 532 of 620: | port hardy\n",
      "Processing record 533 of 620: | sur\n",
      "Processing record 534 of 620: | arlit\n",
      "Processing record 535 of 620: | vestmannaeyjar\n",
      "Processing record 536 of 620: | lavumisa\n",
      "Processing record 537 of 620: | voznesenye\n",
      "Processing record 538 of 620: | ahipara\n",
      "Processing record 539 of 620: | kulu\n",
      "Processing record 540 of 620: | ambilobe\n",
      "Processing record 541 of 620: | jacareacanga\n",
      "Processing record 542 of 620: | phuket\n",
      "Processing record 543 of 620: | homer\n",
      "Processing record 544 of 620: | olafsvik\n",
      "Processing record 545 of 620: | high rock\n",
      "Processing record 546 of 620: | cape canaveral\n",
      "Processing record 547 of 620: | san cristobal\n",
      "Processing record 548 of 620: | ouadda\n",
      "Processing record 549 of 620: | mwinilunga\n",
      "Processing record 550 of 620: | bintulu\n",
      "Processing record 551 of 620: | ayan\n",
      "Processing record 552 of 620: | cururupu\n",
      "Processing record 553 of 620: | talnakh\n",
      "Processing record 554 of 620: | harper\n",
      "Processing record 555 of 620: | san patricio\n",
      "Processing record 556 of 620: | palana\n",
      "Processing record 557 of 620: | amparafaravola\n",
      "Processing record 558 of 620: | hanstholm\n",
      "Processing record 559 of 620: | puerto baquerizo moreno\n",
      "Processing record 560 of 620: | parkes\n",
      "Processing record 561 of 620: | impfondo\n",
      "Processing record 562 of 620: | portland\n",
      "Processing record 563 of 620: | bonavista\n",
      "Processing record 564 of 620: | roblin\n",
      "Processing record 565 of 620: | belaya gora\n",
      "Processing record 566 of 620: | maner\n",
      "Processing record 567 of 620: | poplar bluff\n",
      "Processing record 568 of 620: | emerald\n",
      "Processing record 569 of 620: | novyy urengoy\n",
      "-----------------------------\n",
      "Data Retrieval Complete      \n",
      "-----------------------------\n"
     ]
    }
   ],
   "source": [
    "# Create a base URL and make url to fahrenheit \n",
    "base_url = 'http://api.openweathermap.org/data/2.5/weather?'\n",
    "units = 'imperial'\n",
    "\n",
    "city_name = []\n",
    "lat = []\n",
    "long = []\n",
    "max_temp = []\n",
    "humidity = []\n",
    "cloudiness = []\n",
    "wind_speed = []\n",
    "country = []\n",
    "date = []\n",
    "count=0\n",
    "\n",
    "\n",
    "# Build query URL using openweathermap website help\n",
    "for city in cities:\n",
    "    response = requests.get(query_url+city)\n",
    "#     print(response.url)\n",
    "    response = response.json()\n",
    "    try:\n",
    "        city_name.append(response['name'])\n",
    "        lat.append(response['coord']['lat'])\n",
    "        long.append(response['coord']['lon'])\n",
    "        max_temp.append(response['main']['temp_max'])\n",
    "        humidity.append(response['main']['humidity'])\n",
    "        cloudiness.append(response['clouds']['all'])                \n",
    "        wind_speed.append(response['wind']['speed'])\n",
    "        country.append(response['sys']['country'])\n",
    "        date.append(response['dt'])\n",
    "        count+=1\n",
    "        \n",
    "        print(f'Processing record {count} of {len(cities)}: | {city}')\n",
    "    except:\n",
    "        print(\"City not found, skipping...\")\n",
    "        time.sleep(1.1)\n",
    "        pass\n",
    "# Indicate that Data Loading is complete\n",
    "print(\"-----------------------------\")\n",
    "print(\"Data Retrieval Complete      \")\n",
    "print(\"-----------------------------\")"
   ]
  },
  {
   "cell_type": "markdown",
   "metadata": {},
   "source": [
    "### Convert Raw Data to DataFrame\n",
    "* Export the city data into a .csv.\n",
    "* Display the DataFrame"
   ]
  },
  {
   "cell_type": "code",
   "execution_count": 39,
   "metadata": {},
   "outputs": [
    {
     "data": {
      "text/html": [
       "<div>\n",
       "<style scoped>\n",
       "    .dataframe tbody tr th:only-of-type {\n",
       "        vertical-align: middle;\n",
       "    }\n",
       "\n",
       "    .dataframe tbody tr th {\n",
       "        vertical-align: top;\n",
       "    }\n",
       "\n",
       "    .dataframe thead th {\n",
       "        text-align: right;\n",
       "    }\n",
       "</style>\n",
       "<table border=\"1\" class=\"dataframe\">\n",
       "  <thead>\n",
       "    <tr style=\"text-align: right;\">\n",
       "      <th></th>\n",
       "      <th>City</th>\n",
       "      <th>Latitude</th>\n",
       "      <th>Longitude</th>\n",
       "      <th>Max Temp</th>\n",
       "      <th>Humidity</th>\n",
       "      <th>Cloudiness (%)</th>\n",
       "      <th>Wind Speed (m/s)</th>\n",
       "      <th>Country</th>\n",
       "      <th>Date</th>\n",
       "    </tr>\n",
       "  </thead>\n",
       "  <tbody>\n",
       "    <tr>\n",
       "      <th>0</th>\n",
       "      <td>Dikson</td>\n",
       "      <td>73.51</td>\n",
       "      <td>80.55</td>\n",
       "      <td>-21.33</td>\n",
       "      <td>86</td>\n",
       "      <td>100</td>\n",
       "      <td>22.57</td>\n",
       "      <td>RU</td>\n",
       "      <td>1608243176</td>\n",
       "    </tr>\n",
       "    <tr>\n",
       "      <th>1</th>\n",
       "      <td>Tarauacá</td>\n",
       "      <td>-8.16</td>\n",
       "      <td>-70.77</td>\n",
       "      <td>87.57</td>\n",
       "      <td>55</td>\n",
       "      <td>47</td>\n",
       "      <td>1.77</td>\n",
       "      <td>BR</td>\n",
       "      <td>1608243176</td>\n",
       "    </tr>\n",
       "    <tr>\n",
       "      <th>2</th>\n",
       "      <td>Azare</td>\n",
       "      <td>11.68</td>\n",
       "      <td>10.19</td>\n",
       "      <td>69.66</td>\n",
       "      <td>23</td>\n",
       "      <td>49</td>\n",
       "      <td>7.43</td>\n",
       "      <td>NG</td>\n",
       "      <td>1608243177</td>\n",
       "    </tr>\n",
       "    <tr>\n",
       "      <th>3</th>\n",
       "      <td>Madera</td>\n",
       "      <td>37.17</td>\n",
       "      <td>-119.83</td>\n",
       "      <td>48.00</td>\n",
       "      <td>87</td>\n",
       "      <td>53</td>\n",
       "      <td>5.99</td>\n",
       "      <td>US</td>\n",
       "      <td>1608243177</td>\n",
       "    </tr>\n",
       "    <tr>\n",
       "      <th>4</th>\n",
       "      <td>Punta Arenas</td>\n",
       "      <td>-53.15</td>\n",
       "      <td>-70.92</td>\n",
       "      <td>55.40</td>\n",
       "      <td>43</td>\n",
       "      <td>0</td>\n",
       "      <td>32.21</td>\n",
       "      <td>CL</td>\n",
       "      <td>1608242972</td>\n",
       "    </tr>\n",
       "  </tbody>\n",
       "</table>\n",
       "</div>"
      ],
      "text/plain": [
       "           City  Latitude  Longitude  Max Temp  Humidity  Cloudiness (%)  \\\n",
       "0        Dikson     73.51      80.55    -21.33        86             100   \n",
       "1      Tarauacá     -8.16     -70.77     87.57        55              47   \n",
       "2         Azare     11.68      10.19     69.66        23              49   \n",
       "3        Madera     37.17    -119.83     48.00        87              53   \n",
       "4  Punta Arenas    -53.15     -70.92     55.40        43               0   \n",
       "\n",
       "   Wind Speed (m/s) Country        Date  \n",
       "0             22.57      RU  1608243176  \n",
       "1              1.77      BR  1608243176  \n",
       "2              7.43      NG  1608243177  \n",
       "3              5.99      US  1608243177  \n",
       "4             32.21      CL  1608242972  "
      ]
     },
     "execution_count": 39,
     "metadata": {},
     "output_type": "execute_result"
    }
   ],
   "source": [
    "# Created a dictionary to make into a dataframe\n",
    "weather_info = {\"City\": city_name,\n",
    "               \"Latitude\": lat,\n",
    "               \"Longitude\": long,\n",
    "               \"Max Temp\": max_temp,\n",
    "               \"Humidity\": humidity,\n",
    "               \"Cloudiness (%)\": cloudiness,\n",
    "               \"Wind Speed (m/s)\": wind_speed,\n",
    "               \"Country\": country,\n",
    "               \"Date\": date}\n",
    "\n",
    "# Dataframe created and saved\n",
    "weather_df = pd.DataFrame(weather_info)\n",
    "weather_df.to_csv('../Output_data/Output_weather_data.csv')\n",
    "weather_df.head()"
   ]
  },
  {
   "cell_type": "code",
   "execution_count": null,
   "metadata": {},
   "outputs": [],
   "source": []
  },
  {
   "cell_type": "markdown",
   "metadata": {},
   "source": [
    "## Inspect the data and remove the cities where the humidity > 100%.\n",
    "----\n",
    "Skip this step if there are no cities that have humidity > 100%. "
   ]
  },
  {
   "cell_type": "code",
   "execution_count": 40,
   "metadata": {},
   "outputs": [
    {
     "data": {
      "text/plain": [
       "0      False\n",
       "1      False\n",
       "2      False\n",
       "3      False\n",
       "4      False\n",
       "       ...  \n",
       "564    False\n",
       "565    False\n",
       "566    False\n",
       "567    False\n",
       "568    False\n",
       "Name: Humidity, Length: 569, dtype: bool"
      ]
     },
     "execution_count": 40,
     "metadata": {},
     "output_type": "execute_result"
    }
   ],
   "source": [
    "# Check humidity over 100%\n",
    "weather_df['Humidity']>100"
   ]
  },
  {
   "cell_type": "code",
   "execution_count": 43,
   "metadata": {},
   "outputs": [],
   "source": [
    "#  Get the indices of cities that have humidity over 100%.\n",
    "hum_data = weather_df[weather_df['Humidity']>100].index"
   ]
  },
  {
   "cell_type": "code",
   "execution_count": 45,
   "metadata": {},
   "outputs": [
    {
     "data": {
      "text/html": [
       "<div>\n",
       "<style scoped>\n",
       "    .dataframe tbody tr th:only-of-type {\n",
       "        vertical-align: middle;\n",
       "    }\n",
       "\n",
       "    .dataframe tbody tr th {\n",
       "        vertical-align: top;\n",
       "    }\n",
       "\n",
       "    .dataframe thead th {\n",
       "        text-align: right;\n",
       "    }\n",
       "</style>\n",
       "<table border=\"1\" class=\"dataframe\">\n",
       "  <thead>\n",
       "    <tr style=\"text-align: right;\">\n",
       "      <th></th>\n",
       "      <th>City</th>\n",
       "      <th>Latitude</th>\n",
       "      <th>Longitude</th>\n",
       "      <th>Max Temp</th>\n",
       "      <th>Humidity</th>\n",
       "      <th>Cloudiness (%)</th>\n",
       "      <th>Wind Speed (m/s)</th>\n",
       "      <th>Country</th>\n",
       "      <th>Date</th>\n",
       "    </tr>\n",
       "  </thead>\n",
       "  <tbody>\n",
       "    <tr>\n",
       "      <th>0</th>\n",
       "      <td>Dikson</td>\n",
       "      <td>73.51</td>\n",
       "      <td>80.55</td>\n",
       "      <td>-21.33</td>\n",
       "      <td>86</td>\n",
       "      <td>100</td>\n",
       "      <td>22.57</td>\n",
       "      <td>RU</td>\n",
       "      <td>1608243176</td>\n",
       "    </tr>\n",
       "    <tr>\n",
       "      <th>1</th>\n",
       "      <td>Tarauacá</td>\n",
       "      <td>-8.16</td>\n",
       "      <td>-70.77</td>\n",
       "      <td>87.57</td>\n",
       "      <td>55</td>\n",
       "      <td>47</td>\n",
       "      <td>1.77</td>\n",
       "      <td>BR</td>\n",
       "      <td>1608243176</td>\n",
       "    </tr>\n",
       "    <tr>\n",
       "      <th>2</th>\n",
       "      <td>Azare</td>\n",
       "      <td>11.68</td>\n",
       "      <td>10.19</td>\n",
       "      <td>69.66</td>\n",
       "      <td>23</td>\n",
       "      <td>49</td>\n",
       "      <td>7.43</td>\n",
       "      <td>NG</td>\n",
       "      <td>1608243177</td>\n",
       "    </tr>\n",
       "    <tr>\n",
       "      <th>3</th>\n",
       "      <td>Madera</td>\n",
       "      <td>37.17</td>\n",
       "      <td>-119.83</td>\n",
       "      <td>48.00</td>\n",
       "      <td>87</td>\n",
       "      <td>53</td>\n",
       "      <td>5.99</td>\n",
       "      <td>US</td>\n",
       "      <td>1608243177</td>\n",
       "    </tr>\n",
       "    <tr>\n",
       "      <th>4</th>\n",
       "      <td>Punta Arenas</td>\n",
       "      <td>-53.15</td>\n",
       "      <td>-70.92</td>\n",
       "      <td>55.40</td>\n",
       "      <td>43</td>\n",
       "      <td>0</td>\n",
       "      <td>32.21</td>\n",
       "      <td>CL</td>\n",
       "      <td>1608242972</td>\n",
       "    </tr>\n",
       "    <tr>\n",
       "      <th>...</th>\n",
       "      <td>...</td>\n",
       "      <td>...</td>\n",
       "      <td>...</td>\n",
       "      <td>...</td>\n",
       "      <td>...</td>\n",
       "      <td>...</td>\n",
       "      <td>...</td>\n",
       "      <td>...</td>\n",
       "      <td>...</td>\n",
       "    </tr>\n",
       "    <tr>\n",
       "      <th>564</th>\n",
       "      <td>Belaya Gora</td>\n",
       "      <td>68.53</td>\n",
       "      <td>146.42</td>\n",
       "      <td>-10.57</td>\n",
       "      <td>90</td>\n",
       "      <td>100</td>\n",
       "      <td>3.33</td>\n",
       "      <td>RU</td>\n",
       "      <td>1608243290</td>\n",
       "    </tr>\n",
       "    <tr>\n",
       "      <th>565</th>\n",
       "      <td>Maner</td>\n",
       "      <td>25.65</td>\n",
       "      <td>84.88</td>\n",
       "      <td>50.00</td>\n",
       "      <td>71</td>\n",
       "      <td>21</td>\n",
       "      <td>4.70</td>\n",
       "      <td>IN</td>\n",
       "      <td>1608243290</td>\n",
       "    </tr>\n",
       "    <tr>\n",
       "      <th>566</th>\n",
       "      <td>Poplar Bluff</td>\n",
       "      <td>36.76</td>\n",
       "      <td>-90.39</td>\n",
       "      <td>36.00</td>\n",
       "      <td>64</td>\n",
       "      <td>40</td>\n",
       "      <td>6.93</td>\n",
       "      <td>US</td>\n",
       "      <td>1608243290</td>\n",
       "    </tr>\n",
       "    <tr>\n",
       "      <th>567</th>\n",
       "      <td>Emerald</td>\n",
       "      <td>-23.53</td>\n",
       "      <td>148.17</td>\n",
       "      <td>80.60</td>\n",
       "      <td>78</td>\n",
       "      <td>66</td>\n",
       "      <td>8.05</td>\n",
       "      <td>AU</td>\n",
       "      <td>1608243290</td>\n",
       "    </tr>\n",
       "    <tr>\n",
       "      <th>568</th>\n",
       "      <td>Novy Urengoy</td>\n",
       "      <td>66.08</td>\n",
       "      <td>76.63</td>\n",
       "      <td>7.48</td>\n",
       "      <td>94</td>\n",
       "      <td>100</td>\n",
       "      <td>16.02</td>\n",
       "      <td>RU</td>\n",
       "      <td>1608243290</td>\n",
       "    </tr>\n",
       "  </tbody>\n",
       "</table>\n",
       "<p>569 rows × 9 columns</p>\n",
       "</div>"
      ],
      "text/plain": [
       "             City  Latitude  Longitude  Max Temp  Humidity  Cloudiness (%)  \\\n",
       "0          Dikson     73.51      80.55    -21.33        86             100   \n",
       "1        Tarauacá     -8.16     -70.77     87.57        55              47   \n",
       "2           Azare     11.68      10.19     69.66        23              49   \n",
       "3          Madera     37.17    -119.83     48.00        87              53   \n",
       "4    Punta Arenas    -53.15     -70.92     55.40        43               0   \n",
       "..            ...       ...        ...       ...       ...             ...   \n",
       "564   Belaya Gora     68.53     146.42    -10.57        90             100   \n",
       "565         Maner     25.65      84.88     50.00        71              21   \n",
       "566  Poplar Bluff     36.76     -90.39     36.00        64              40   \n",
       "567       Emerald    -23.53     148.17     80.60        78              66   \n",
       "568  Novy Urengoy     66.08      76.63      7.48        94             100   \n",
       "\n",
       "     Wind Speed (m/s) Country        Date  \n",
       "0               22.57      RU  1608243176  \n",
       "1                1.77      BR  1608243176  \n",
       "2                7.43      NG  1608243177  \n",
       "3                5.99      US  1608243177  \n",
       "4               32.21      CL  1608242972  \n",
       "..                ...     ...         ...  \n",
       "564              3.33      RU  1608243290  \n",
       "565              4.70      IN  1608243290  \n",
       "566              6.93      US  1608243290  \n",
       "567              8.05      AU  1608243290  \n",
       "568             16.02      RU  1608243290  \n",
       "\n",
       "[569 rows x 9 columns]"
      ]
     },
     "execution_count": 45,
     "metadata": {},
     "output_type": "execute_result"
    }
   ],
   "source": [
    "# Make a new DF to drop all data thats in the original df that checks humidity.\n",
    "clean_df = weather_df.drop(hum_data,inplace = False)\n",
    "clean_df"
   ]
  },
  {
   "cell_type": "code",
   "execution_count": null,
   "metadata": {},
   "outputs": [],
   "source": [
    "\n"
   ]
  },
  {
   "cell_type": "markdown",
   "metadata": {},
   "source": [
    "## Plotting the Data\n",
    "* Use proper labeling of the plots using plot titles (including date of analysis) and axes labels.\n",
    "* Save the plotted figures as .pngs."
   ]
  },
  {
   "cell_type": "markdown",
   "metadata": {},
   "source": [
    "## Latitude vs. Temperature Plot"
   ]
  },
  {
   "cell_type": "code",
   "execution_count": 53,
   "metadata": {
    "scrolled": true
   },
   "outputs": [
    {
     "name": "stdout",
     "output_type": "stream",
     "text": [
      "The temperature increases as you get closer to the equator\n"
     ]
    },
    {
     "data": {
      "image/png": "[encoded data removed]",
      "text/plain": [
       "<Figure size 432x288 with 1 Axes>"
      ]
     },
     "metadata": {
      "needs_background": "light"
     },
     "output_type": "display_data"
    }
   ],
   "source": [
    "# Create a scatter plot to address latitude vs temperature\n",
    "lat_temp = clean_df.plot.scatter(x = \"Max Temp\",y = \"Latitude\", color = \"LightBlue\", edgecolor='DarkBlue')\n",
    "print(\"The temperature increases as you get closer to the equator\")"
   ]
  },
  {
   "cell_type": "markdown",
   "metadata": {},
   "source": [
    "## Latitude vs. Humidity Plot"
   ]
  },
  {
   "cell_type": "code",
   "execution_count": 54,
   "metadata": {},
   "outputs": [
    {
     "name": "stdout",
     "output_type": "stream",
     "text": [
      "Humidity increases as latitude increases.\n"
     ]
    },
    {
     "data": {
      "image/png": "[encoded data removed]",
      "text/plain": [
       "<Figure size 432x288 with 1 Axes>"
      ]
     },
     "metadata": {
      "needs_background": "light"
     },
     "output_type": "display_data"
    }
   ],
   "source": [
    "# Create a scatter plot to address latitude vs humidity.\n",
    "lat_hum = clean_df.plot.scatter(x = \"Humidity\", y = \"Latitude\", color = \"LightBlue\", edgecolor='DarkBlue')\n",
    "print(\"Humidity increases as latitude increases.\")"
   ]
  },
  {
   "cell_type": "markdown",
   "metadata": {},
   "source": [
    "## Latitude vs. Cloudiness Plot"
   ]
  },
  {
   "cell_type": "code",
   "execution_count": 60,
   "metadata": {},
   "outputs": [
    {
     "name": "stdout",
     "output_type": "stream",
     "text": [
      "Humidity tends to float around different pertantages depending on their altitude level such as 20%, 40%, and 100%.\n"
     ]
    },
    {
     "data": {
      "image/png": "[encoded data removed]",
      "text/plain": [
       "<Figure size 432x288 with 1 Axes>"
      ]
     },
     "metadata": {
      "needs_background": "light"
     },
     "output_type": "display_data"
    }
   ],
   "source": [
    "# Create a scatter plot to address latitude vs cloudiness.\n",
    "lat_cloud = clean_df.plot.scatter(y = \"Latitude\", x = \"Cloudiness (%)\", color = \"LightBlue\", edgecolor='DarkBlue')\n",
    "print(\"Humidity tends to float around different pertantages depending on their altitude level such as 20%, 40%, and 100%.\")"
   ]
  },
  {
   "cell_type": "markdown",
   "metadata": {},
   "source": [
    "## Latitude vs. Wind Speed Plot"
   ]
  },
  {
   "cell_type": "code",
   "execution_count": 59,
   "metadata": {},
   "outputs": [
    {
     "data": {
      "image/png": "[encoded data removed]",
      "text/plain": [
       "<Figure size 432x288 with 1 Axes>"
      ]
     },
     "metadata": {
      "needs_background": "light"
     },
     "output_type": "display_data"
    }
   ],
   "source": [
    "# Create a scatter plot to address latitude vs wind speed.\n",
    "lat_wind = clean_df.plot.scatter(x = \"Wind Speed (m/s)\", y = \"Latitude\", color = \"LightBlue\", edgecolor='DarkBlue')\n",
    "print(\"It is a rare occasion that wind speed goes over 30m/s. This also shows that there is no real correlation between wind speed and latitude.\")"
   ]
  },
  {
   "cell_type": "markdown",
   "metadata": {},
   "source": [
    "## Linear Regression"
   ]
  },
  {
   "cell_type": "code",
   "execution_count": 62,
   "metadata": {},
   "outputs": [
    {
     "data": {
      "text/html": [
       "<div>\n",
       "<style scoped>\n",
       "    .dataframe tbody tr th:only-of-type {\n",
       "        vertical-align: middle;\n",
       "    }\n",
       "\n",
       "    .dataframe tbody tr th {\n",
       "        vertical-align: top;\n",
       "    }\n",
       "\n",
       "    .dataframe thead th {\n",
       "        text-align: right;\n",
       "    }\n",
       "</style>\n",
       "<table border=\"1\" class=\"dataframe\">\n",
       "  <thead>\n",
       "    <tr style=\"text-align: right;\">\n",
       "      <th></th>\n",
       "      <th>City</th>\n",
       "      <th>Latitude</th>\n",
       "      <th>Longitude</th>\n",
       "      <th>Max Temp</th>\n",
       "      <th>Humidity</th>\n",
       "      <th>Cloudiness (%)</th>\n",
       "      <th>Wind Speed (m/s)</th>\n",
       "      <th>Country</th>\n",
       "      <th>Date</th>\n",
       "    </tr>\n",
       "  </thead>\n",
       "  <tbody>\n",
       "    <tr>\n",
       "      <th>0</th>\n",
       "      <td>Dikson</td>\n",
       "      <td>73.51</td>\n",
       "      <td>80.55</td>\n",
       "      <td>-21.33</td>\n",
       "      <td>86</td>\n",
       "      <td>100</td>\n",
       "      <td>22.57</td>\n",
       "      <td>RU</td>\n",
       "      <td>1608243176</td>\n",
       "    </tr>\n",
       "    <tr>\n",
       "      <th>2</th>\n",
       "      <td>Azare</td>\n",
       "      <td>11.68</td>\n",
       "      <td>10.19</td>\n",
       "      <td>69.66</td>\n",
       "      <td>23</td>\n",
       "      <td>49</td>\n",
       "      <td>7.43</td>\n",
       "      <td>NG</td>\n",
       "      <td>1608243177</td>\n",
       "    </tr>\n",
       "    <tr>\n",
       "      <th>3</th>\n",
       "      <td>Madera</td>\n",
       "      <td>37.17</td>\n",
       "      <td>-119.83</td>\n",
       "      <td>48.00</td>\n",
       "      <td>87</td>\n",
       "      <td>53</td>\n",
       "      <td>5.99</td>\n",
       "      <td>US</td>\n",
       "      <td>1608243177</td>\n",
       "    </tr>\n",
       "    <tr>\n",
       "      <th>5</th>\n",
       "      <td>Yerbogachën</td>\n",
       "      <td>61.28</td>\n",
       "      <td>108.01</td>\n",
       "      <td>-5.53</td>\n",
       "      <td>90</td>\n",
       "      <td>100</td>\n",
       "      <td>6.76</td>\n",
       "      <td>RU</td>\n",
       "      <td>1608243177</td>\n",
       "    </tr>\n",
       "    <tr>\n",
       "      <th>8</th>\n",
       "      <td>Kamyshlov</td>\n",
       "      <td>56.84</td>\n",
       "      <td>62.71</td>\n",
       "      <td>20.16</td>\n",
       "      <td>95</td>\n",
       "      <td>100</td>\n",
       "      <td>9.91</td>\n",
       "      <td>RU</td>\n",
       "      <td>1608243177</td>\n",
       "    </tr>\n",
       "  </tbody>\n",
       "</table>\n",
       "</div>"
      ],
      "text/plain": [
       "          City  Latitude  Longitude  Max Temp  Humidity  Cloudiness (%)  \\\n",
       "0       Dikson     73.51      80.55    -21.33        86             100   \n",
       "2        Azare     11.68      10.19     69.66        23              49   \n",
       "3       Madera     37.17    -119.83     48.00        87              53   \n",
       "5  Yerbogachën     61.28     108.01     -5.53        90             100   \n",
       "8    Kamyshlov     56.84      62.71     20.16        95             100   \n",
       "\n",
       "   Wind Speed (m/s) Country        Date  \n",
       "0             22.57      RU  1608243176  \n",
       "2              7.43      NG  1608243177  \n",
       "3              5.99      US  1608243177  \n",
       "5              6.76      RU  1608243177  \n",
       "8              9.91      RU  1608243177  "
      ]
     },
     "execution_count": 62,
     "metadata": {},
     "output_type": "execute_result"
    }
   ],
   "source": [
    "#Make new df for just northern hemisphere\n",
    "north_df = clean_df.loc[clean_df[\"Latitude\"]>0]\n",
    "north_df.head()"
   ]
  },
  {
   "cell_type": "code",
   "execution_count": null,
   "metadata": {},
   "outputs": [],
   "source": []
  },
  {
   "cell_type": "markdown",
   "metadata": {},
   "source": [
    "####  Northern Hemisphere - Max Temp vs. Latitude Linear Regression"
   ]
  },
  {
   "cell_type": "code",
   "execution_count": 95,
   "metadata": {},
   "outputs": [
    {
     "data": {
      "image/png": "[encoded data removed]",
      "text/plain": [
       "<Figure size 432x288 with 1 Axes>"
      ]
     },
     "metadata": {
      "needs_background": "light"
     },
     "output_type": "display_data"
    },
    {
     "name": "stdout",
     "output_type": "stream",
     "text": [
      "The R-Value is: -0.853984694361689\n",
      "OBSERVATION: Using R-Value, you can tell that there is negative correlation between Northern Latitudes vs Max Temperature\n"
     ]
    }
   ],
   "source": [
    "#Make X and Y axises for temp and latitude\n",
    "x_ntemp = north_df[\"Max Temp\"]\n",
    "y_nlat = north_df[\"Latitude\"]\n",
    "\n",
    "#Calculate line regression using \"y=mx+b\"\n",
    "slope, intercept, rvalue, pvalue, stderr = linregress(x_ntemp, y_nlat)\n",
    "regress_values = x_ntemp * slope + intercept\n",
    "line_eq = \"y = \" + str(round(slope,2)) + \"x + \" + str(round(intercept,2))\n",
    "\n",
    "#Create the Scatter Plot\n",
    "\n",
    "plt.scatter(x_ntemp, y_nlat, color = 'blue')\n",
    "plt.plot(x_ntemp,regress_values,\"r-\")\n",
    "plt.annotate(line_eq,(6,10),fontsize=15,color=\"red\")\n",
    "plt.xlabel(\"Max Temperature (F)\")\n",
    "plt.ylabel(\"Northern Latitudes\")\n",
    "plt.show(line_eq, rvalue)\n",
    "\n",
    "print(\"The R-Value is:\", rvalue)\n",
    "print(\"OBSERVATION: Using R-Value, you can tell that there is negative correlation between Northern Latitudes vs Max Temperature\")"
   ]
  },
  {
   "cell_type": "markdown",
   "metadata": {},
   "source": [
    "####  Southern Hemisphere - Max Temp vs. Latitude Linear Regression"
   ]
  },
  {
   "cell_type": "code",
   "execution_count": 74,
   "metadata": {},
   "outputs": [
    {
     "data": {
      "text/html": [
       "<div>\n",
       "<style scoped>\n",
       "    .dataframe tbody tr th:only-of-type {\n",
       "        vertical-align: middle;\n",
       "    }\n",
       "\n",
       "    .dataframe tbody tr th {\n",
       "        vertical-align: top;\n",
       "    }\n",
       "\n",
       "    .dataframe thead th {\n",
       "        text-align: right;\n",
       "    }\n",
       "</style>\n",
       "<table border=\"1\" class=\"dataframe\">\n",
       "  <thead>\n",
       "    <tr style=\"text-align: right;\">\n",
       "      <th></th>\n",
       "      <th>City</th>\n",
       "      <th>Latitude</th>\n",
       "      <th>Longitude</th>\n",
       "      <th>Max Temp</th>\n",
       "      <th>Humidity</th>\n",
       "      <th>Cloudiness (%)</th>\n",
       "      <th>Wind Speed (m/s)</th>\n",
       "      <th>Country</th>\n",
       "      <th>Date</th>\n",
       "    </tr>\n",
       "  </thead>\n",
       "  <tbody>\n",
       "    <tr>\n",
       "      <th>1</th>\n",
       "      <td>Tarauacá</td>\n",
       "      <td>-8.16</td>\n",
       "      <td>-70.77</td>\n",
       "      <td>87.57</td>\n",
       "      <td>55</td>\n",
       "      <td>47</td>\n",
       "      <td>1.77</td>\n",
       "      <td>BR</td>\n",
       "      <td>1608243176</td>\n",
       "    </tr>\n",
       "    <tr>\n",
       "      <th>4</th>\n",
       "      <td>Punta Arenas</td>\n",
       "      <td>-53.15</td>\n",
       "      <td>-70.92</td>\n",
       "      <td>55.40</td>\n",
       "      <td>43</td>\n",
       "      <td>0</td>\n",
       "      <td>32.21</td>\n",
       "      <td>CL</td>\n",
       "      <td>1608242972</td>\n",
       "    </tr>\n",
       "    <tr>\n",
       "      <th>6</th>\n",
       "      <td>Avarua</td>\n",
       "      <td>-21.21</td>\n",
       "      <td>-159.78</td>\n",
       "      <td>84.20</td>\n",
       "      <td>79</td>\n",
       "      <td>100</td>\n",
       "      <td>13.87</td>\n",
       "      <td>CK</td>\n",
       "      <td>1608243177</td>\n",
       "    </tr>\n",
       "    <tr>\n",
       "      <th>7</th>\n",
       "      <td>Ambovombe</td>\n",
       "      <td>-25.17</td>\n",
       "      <td>46.08</td>\n",
       "      <td>75.90</td>\n",
       "      <td>84</td>\n",
       "      <td>20</td>\n",
       "      <td>4.32</td>\n",
       "      <td>MG</td>\n",
       "      <td>1608243177</td>\n",
       "    </tr>\n",
       "    <tr>\n",
       "      <th>10</th>\n",
       "      <td>Taree</td>\n",
       "      <td>-31.90</td>\n",
       "      <td>152.47</td>\n",
       "      <td>82.99</td>\n",
       "      <td>100</td>\n",
       "      <td>1</td>\n",
       "      <td>2.24</td>\n",
       "      <td>AU</td>\n",
       "      <td>1608242947</td>\n",
       "    </tr>\n",
       "  </tbody>\n",
       "</table>\n",
       "</div>"
      ],
      "text/plain": [
       "            City  Latitude  Longitude  Max Temp  Humidity  Cloudiness (%)  \\\n",
       "1       Tarauacá     -8.16     -70.77     87.57        55              47   \n",
       "4   Punta Arenas    -53.15     -70.92     55.40        43               0   \n",
       "6         Avarua    -21.21    -159.78     84.20        79             100   \n",
       "7      Ambovombe    -25.17      46.08     75.90        84              20   \n",
       "10         Taree    -31.90     152.47     82.99       100               1   \n",
       "\n",
       "    Wind Speed (m/s) Country        Date  \n",
       "1               1.77      BR  1608243176  \n",
       "4              32.21      CL  1608242972  \n",
       "6              13.87      CK  1608243177  \n",
       "7               4.32      MG  1608243177  \n",
       "10              2.24      AU  1608242947  "
      ]
     },
     "execution_count": 74,
     "metadata": {},
     "output_type": "execute_result"
    }
   ],
   "source": [
    "south_df = clean_df.loc[clean_df[\"Latitude\"]<0]\n",
    "south_df.head()\n",
    "\n"
   ]
  },
  {
   "cell_type": "code",
   "execution_count": 96,
   "metadata": {},
   "outputs": [
    {
     "data": {
      "image/png": "[encoded data removed]",
      "text/plain": [
       "<Figure size 432x288 with 1 Axes>"
      ]
     },
     "metadata": {
      "needs_background": "light"
     },
     "output_type": "display_data"
    },
    {
     "name": "stdout",
     "output_type": "stream",
     "text": [
      "The R-Value is: 0.4878260278454015\n",
      "OBSERVATION: Using R-Value, you can tell that there is slight positive correlation between Southern Latitude vs Max Temperature\n"
     ]
    }
   ],
   "source": [
    "#Make X and Y axises for temp and latitude\n",
    "x_stemp = south_df[\"Max Temp\"]\n",
    "y_slat = south_df[\"Latitude\"]\n",
    "\n",
    "#Calculate line regression using \"y=mx+b\"\n",
    "slope, intercept, rvalue, pvalue, stderr = linregress(x_stemp, y_slat)\n",
    "regress_values = x_stemp * slope + intercept\n",
    "line_eq = \"y = \" + str(round(slope,2)) + \"x + \" + str(round(intercept,2))\n",
    "\n",
    "#Create the Scatter Plot\n",
    "\n",
    "plt.scatter(x_stemp, y_slat, color = 'blue')\n",
    "plt.plot(x_stemp,regress_values,\"r-\")\n",
    "plt.annotate(line_eq,(60,-45),fontsize=20,color=\"red\")\n",
    "plt.xlabel(\"Max Temperature (F)\")\n",
    "plt.ylabel(\"Southern Latitudes\")\n",
    "plt.show(line_eq, rvalue)\n",
    "\n",
    "print(\"The R-Value is:\", rvalue)\n",
    "print(\"OBSERVATION: Using R-Value, you can tell that there is slight positive correlation between Southern Latitude vs Max Temperature\")"
   ]
  },
  {
   "cell_type": "markdown",
   "metadata": {},
   "source": [
    "####  Northern Hemisphere - Humidity (%) vs. Latitude Linear Regression"
   ]
  },
  {
   "cell_type": "code",
   "execution_count": 97,
   "metadata": {},
   "outputs": [
    {
     "data": {
      "image/png": "[encoded data removed]",
      "text/plain": [
       "<Figure size 432x288 with 1 Axes>"
      ]
     },
     "metadata": {
      "needs_background": "light"
     },
     "output_type": "display_data"
    },
    {
     "name": "stdout",
     "output_type": "stream",
     "text": [
      "The R-Value is: 0.33466644480656227\n",
      "OBSERVATION: Using R-Value, you can tell that there is slight positive correlation between Northern Hemisphere vs Humidity (%)\n"
     ]
    }
   ],
   "source": [
    "#Make X and Y axises for temp and latitude\n",
    "x_nhum = north_df[\"Humidity\"]\n",
    "y_nlat = north_df[\"Latitude\"]\n",
    "\n",
    "#Calculate line regression using \"y=mx+b\"\n",
    "slope, intercept, rvalue, pvalue, stderr = linregress(x_nhum, y_nlat)\n",
    "regress_values = x_nhum * slope + intercept\n",
    "line_eq = \"y = \" + str(round(slope,2)) + \"x + \" + str(round(intercept,2))\n",
    "\n",
    "#Create the Scatter Plot\n",
    "\n",
    "plt.scatter(x_nhum, y_nlat, color = 'blue')\n",
    "plt.plot(x_nhum,regress_values,\"r-\")\n",
    "plt.annotate(line_eq,(6,10),fontsize=10,color=\"red\")\n",
    "plt.xlabel(\"Humidity\")\n",
    "plt.ylabel(\"Northern Latitudes\")\n",
    "plt.show(line_eq, rvalue)\n",
    "\n",
    "print(\"The R-Value is:\", rvalue)\n",
    "print(\"OBSERVATION: Using R-Value, you can tell that there is almost no correlation between Northern Hemisphere vs Humidity (%)\")"
   ]
  },
  {
   "cell_type": "markdown",
   "metadata": {},
   "source": [
    "####  Southern Hemisphere - Humidity (%) vs. Latitude Linear Regression"
   ]
  },
  {
   "cell_type": "code",
   "execution_count": 102,
   "metadata": {},
   "outputs": [
    {
     "data": {
      "image/png": "[encoded data removed]",
      "text/plain": [
       "<Figure size 432x288 with 1 Axes>"
      ]
     },
     "metadata": {
      "needs_background": "light"
     },
     "output_type": "display_data"
    },
    {
     "name": "stdout",
     "output_type": "stream",
     "text": [
      "The R-Value is: 0.2695747036265495\n",
      "OBSERVATION: Using R-Value, you can tell that there is almost no correlation between Southern Hemisphere vs Humidity (%)\n"
     ]
    }
   ],
   "source": [
    "#Make X and Y axises for temp and latitude\n",
    "x_stemp = south_df[\"Humidity\"]\n",
    "y_slat = south_df[\"Latitude\"]\n",
    "\n",
    "#Calculate line regression using \"y=mx+b\"\n",
    "slope, intercept, rvalue, pvalue, stderr = linregress(x_stemp, y_slat)\n",
    "regress_values = x_stemp * slope + intercept\n",
    "line_eq = \"y = \" + str(round(slope,2)) + \"x + \" + str(round(intercept,2))\n",
    "\n",
    "#Create the Scatter Plot\n",
    "\n",
    "plt.scatter(x_stemp, y_slat, color = 'blue')\n",
    "plt.plot(x_stemp,regress_values,\"r-\")\n",
    "plt.annotate(line_eq,(20,-45),fontsize=20,color=\"red\")\n",
    "plt.xlabel(\"Humidity (%)\")\n",
    "plt.ylabel(\"Southern Latitudes\")\n",
    "plt.show(line_eq, rvalue)\n",
    "\n",
    "print(\"The R-Value is:\", rvalue)\n",
    "print(\"OBSERVATION: Using R-Value, you can tell that there is almost no correlation between Southern Hemisphere vs Humidity (%)\")"
   ]
  },
  {
   "cell_type": "markdown",
   "metadata": {},
   "source": [
    "####  Northern Hemisphere - Cloudiness (%) vs. Latitude Linear Regression"
   ]
  },
  {
   "cell_type": "code",
   "execution_count": 109,
   "metadata": {},
   "outputs": [
    {
     "data": {
      "image/png": "[encoded data removed]",
      "text/plain": [
       "<Figure size 432x288 with 1 Axes>"
      ]
     },
     "metadata": {
      "needs_background": "light"
     },
     "output_type": "display_data"
    },
    {
     "name": "stdout",
     "output_type": "stream",
     "text": [
      "The R-Value is: 0.2103412792269778\n",
      "OBSERVATION: Using R-Value, you can tell that there is almost no correlation between Northern Hemisphere vs Cloudiness (%)\n"
     ]
    }
   ],
   "source": [
    "#Make X and Y axises for temp and latitude\n",
    "x_ncloud = north_df[\"Cloudiness (%)\"]\n",
    "y_nlat = north_df[\"Latitude\"]\n",
    "\n",
    "#Calculate line regression using \"y=mx+b\"\n",
    "slope, intercept, rvalue, pvalue, stderr = linregress(x_ncloud, y_nlat)\n",
    "regress_values = x_ncloud * slope + intercept\n",
    "line_eq = \"y = \" + str(round(slope,2)) + \"x + \" + str(round(intercept,2))\n",
    "\n",
    "#Create the Scatter Plot\n",
    "\n",
    "plt.scatter(x_ncloud, y_nlat, color = 'blue')\n",
    "plt.plot(x_ncloud,regress_values,\"r-\")\n",
    "plt.annotate(line_eq,(6,10),fontsize=15,color=\"red\")\n",
    "plt.xlabel(\"Cloudiness (%)\")\n",
    "plt.ylabel(\"Northern Latitudes\")\n",
    "plt.show(line_eq, rvalue)\n",
    "\n",
    "print(\"The R-Value is:\", rvalue)\n",
    "print(\"OBSERVATION: Using R-Value, you can tell that there is almost no correlation between Northern Hemisphere vs Cloudiness (%)\")"
   ]
  },
  {
   "cell_type": "markdown",
   "metadata": {},
   "source": [
    "####  Southern Hemisphere - Cloudiness (%) vs. Latitude Linear Regression"
   ]
  },
  {
   "cell_type": "code",
   "execution_count": 110,
   "metadata": {},
   "outputs": [
    {
     "data": {
      "image/png": "[encoded data removed]",
      "text/plain": [
       "<Figure size 432x288 with 1 Axes>"
      ]
     },
     "metadata": {
      "needs_background": "light"
     },
     "output_type": "display_data"
    },
    {
     "name": "stdout",
     "output_type": "stream",
     "text": [
      "The R-Value is: 0.10211495459826746\n",
      "OBSERVATION: Using R-Value, you can tell that there is no correlation between Southern Hemisphere vs Humidity (%)\n"
     ]
    }
   ],
   "source": [
    "#Make X and Y axises for temp and latitude\n",
    "x_scloud = south_df[\"Cloudiness (%)\"]\n",
    "y_slat = south_df[\"Latitude\"]\n",
    "\n",
    "#Calculate line regression using \"y=mx+b\"\n",
    "slope, intercept, rvalue, pvalue, stderr = linregress(x_scloud, y_slat)\n",
    "regress_values = x_scloud * slope + intercept\n",
    "line_eq = \"y = \" + str(round(slope,2)) + \"x + \" + str(round(intercept,2))\n",
    "\n",
    "#Create the Scatter Plot\n",
    "\n",
    "plt.scatter(x_scloud, y_slat, color = 'blue')\n",
    "plt.plot(x_scloud,regress_values,\"r-\")\n",
    "plt.annotate(line_eq,(10,-40),fontsize=20,color=\"red\")\n",
    "plt.xlabel(\"Cloudiness (%)\")\n",
    "plt.ylabel(\"Southern Latitudes\")\n",
    "plt.show(line_eq, rvalue)\n",
    "\n",
    "print(\"The R-Value is:\", rvalue)\n",
    "print(\"OBSERVATION: Using R-Value, you can tell that there is no correlation between Southern Hemisphere vs Humidity (%)\")"
   ]
  },
  {
   "cell_type": "markdown",
   "metadata": {},
   "source": [
    "####  Northern Hemisphere - Wind Speed (mph) vs. Latitude Linear Regression"
   ]
  },
  {
   "cell_type": "code",
   "execution_count": 114,
   "metadata": {},
   "outputs": [
    {
     "data": {
      "image/png": "[encoded data removed]",
      "text/plain": [
       "<Figure size 432x288 with 1 Axes>"
      ]
     },
     "metadata": {
      "needs_background": "light"
     },
     "output_type": "display_data"
    },
    {
     "name": "stdout",
     "output_type": "stream",
     "text": [
      "The R-Value is: 0.15756733314063984\n",
      "OBSERVATION: Using R-Value, you can tell that there is almost no correlation between Northern Hemisphere vs Wind Speed (mph)\n"
     ]
    }
   ],
   "source": [
    "#Make X and Y axises for temp and latitude\n",
    "x_nwind = north_df[\"Wind Speed (m/s)\"]\n",
    "y_nlat = north_df[\"Latitude\"]\n",
    "\n",
    "#Calculate line regression using \"y=mx+b\"\n",
    "slope, intercept, rvalue, pvalue, stderr = linregress(x_nwind, y_nlat)\n",
    "regress_values = x_nwind * slope + intercept\n",
    "line_eq = \"y = \" + str(round(slope,2)) + \"x + \" + str(round(intercept,2))\n",
    "\n",
    "#Create the Scatter Plot\n",
    "\n",
    "plt.scatter(x_nwind, y_nlat, color = 'blue')\n",
    "plt.plot(x_nwind,regress_values,\"r-\")\n",
    "plt.annotate(line_eq,(20,10),fontsize=15,color=\"red\")\n",
    "plt.xlabel(\"Wind Speed (m/s)\")\n",
    "plt.ylabel(\"Northern Latitudes\")\n",
    "plt.show(line_eq, rvalue)\n",
    "\n",
    "print(\"The R-Value is:\", rvalue)\n",
    "print(\"OBSERVATION: Using R-Value, you can tell that there is almost no correlation between Northern Hemisphere vs Wind Speed (mph)\")"
   ]
  },
  {
   "cell_type": "markdown",
   "metadata": {},
   "source": [
    "####  Southern Hemisphere - Wind Speed (mph) vs. Latitude Linear Regression"
   ]
  },
  {
   "cell_type": "code",
   "execution_count": 117,
   "metadata": {},
   "outputs": [
    {
     "data": {
      "image/png": "[encoded data removed]",
      "text/plain": [
       "<Figure size 432x288 with 1 Axes>"
      ]
     },
     "metadata": {
      "needs_background": "light"
     },
     "output_type": "display_data"
    },
    {
     "name": "stdout",
     "output_type": "stream",
     "text": [
      "The R-Value is: -0.19363269768019822\n",
      "OBSERVATION: Using R-Value, you can tell that there is almost no correlation between Southern Hemisphere vs Wind Speed (mph)\n"
     ]
    }
   ],
   "source": [
    "#Make X and Y axises for temp and latitude\n",
    "x_swind = south_df[\"Wind Speed (m/s)\"]\n",
    "y_slat = south_df[\"Latitude\"]\n",
    "\n",
    "#Calculate line regression using \"y=mx+b\"\n",
    "slope, intercept, rvalue, pvalue, stderr = linregress(x_swind, y_slat)\n",
    "regress_values = x_swind * slope + intercept\n",
    "line_eq = \"y = \" + str(round(slope,2)) + \"x + \" + str(round(intercept,2))\n",
    "\n",
    "#Create the Scatter Plot\n",
    "\n",
    "plt.scatter(x_swind, y_slat, color = 'blue')\n",
    "plt.plot(x_swind,regress_values,\"r-\")\n",
    "plt.annotate(line_eq,(15,-45),fontsize=15,color=\"red\")\n",
    "plt.xlabel(\"Wind Speed (m/s)\")\n",
    "plt.ylabel(\"Southern Latitudes\")\n",
    "plt.show(line_eq, rvalue)\n",
    "\n",
    "print(\"The R-Value is:\", rvalue)\n",
    "print(\"OBSERVATION: Using R-Value, you can tell that there is almost no correlation between Southern Hemisphere vs Wind Speed (mph)\")"
   ]
  },
  {
   "cell_type": "code",
   "execution_count": null,
   "metadata": {},
   "outputs": [],
   "source": []
  }
 ],
 "metadata": {
  "anaconda-cloud": {},
  "kernel_info": {
   "name": "python3"
  },
  "kernelspec": {
   "display_name": "Python [conda env:.conda-PythonData]*",
   "language": "python",
   "name": "myenv"
  },
  "language_info": {
   "codemirror_mode": {
    "name": "ipython",
    "version": 3
   },
   "file_extension": ".py",
   "mimetype": "text/x-python",
   "name": "python",
   "nbconvert_exporter": "python",
   "pygments_lexer": "ipython3",
   "version": "3.8.3"
  },
  "latex_envs": {
   "LaTeX_envs_menu_present": true,
   "autoclose": false,
   "autocomplete": true,
   "bibliofile": "biblio.bib",
   "cite_by": "apalike",
   "current_citInitial": 1,
   "eqLabelWithNumbers": true,
   "eqNumInitial": 1,
   "hotkeys": {
    "equation": "Ctrl-E",
    "itemize": "Ctrl-I"
   },
   "labels_anchors": false,
   "latex_user_defs": false,
   "report_style_numbering": false,
   "user_envs_cfg": false
  },
  "nteract": {
   "version": "0.12.3"
  }
 },
 "nbformat": 4,
 "nbformat_minor": 2
}
